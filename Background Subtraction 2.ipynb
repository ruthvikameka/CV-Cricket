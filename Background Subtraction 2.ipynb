{
 "cells": [
  {
   "cell_type": "code",
   "execution_count": 15,
   "metadata": {},
   "outputs": [],
   "source": [
    "import numpy as np\n",
    "import cv2\n",
    "\n"
   ]
  },
  {
   "cell_type": "code",
   "execution_count": 20,
   "metadata": {},
   "outputs": [
    {
     "ename": "KeyboardInterrupt",
     "evalue": "",
     "output_type": "error",
     "traceback": [
      "\u001b[1;31m---------------------------------------------------------------------------\u001b[0m",
      "\u001b[1;31mKeyboardInterrupt\u001b[0m                         Traceback (most recent call last)",
      "\u001b[1;32m<ipython-input-20-f3324a329d70>\u001b[0m in \u001b[0;36m<module>\u001b[1;34m\u001b[0m\n\u001b[0;32m     45\u001b[0m \u001b[1;32mwhile\u001b[0m\u001b[1;33m(\u001b[0m\u001b[0mrun\u001b[0m\u001b[1;33m)\u001b[0m\u001b[1;33m:\u001b[0m\u001b[1;33m\u001b[0m\u001b[1;33m\u001b[0m\u001b[0m\n\u001b[0;32m     46\u001b[0m     \u001b[1;31m# Read a frame from the camera\u001b[0m\u001b[1;33m\u001b[0m\u001b[1;33m\u001b[0m\u001b[1;33m\u001b[0m\u001b[0m\n\u001b[1;32m---> 47\u001b[1;33m     \u001b[0mret\u001b[0m\u001b[1;33m,\u001b[0m\u001b[0mframe\u001b[0m \u001b[1;33m=\u001b[0m \u001b[0mcam\u001b[0m\u001b[1;33m.\u001b[0m\u001b[0mread\u001b[0m\u001b[1;33m(\u001b[0m\u001b[1;33m)\u001b[0m\u001b[1;33m\u001b[0m\u001b[1;33m\u001b[0m\u001b[0m\n\u001b[0m\u001b[0;32m     48\u001b[0m \u001b[1;33m\u001b[0m\u001b[0m\n\u001b[0;32m     49\u001b[0m     \u001b[1;31m# If the frame was properly read.\u001b[0m\u001b[1;33m\u001b[0m\u001b[1;33m\u001b[0m\u001b[1;33m\u001b[0m\u001b[0m\n",
      "\u001b[1;31mKeyboardInterrupt\u001b[0m: "
     ]
    }
   ],
   "source": [
    "class BackGroundSubtractor:\n",
    "# When constructing background subtractor, we\n",
    "# take in two arguments:\n",
    "# 1) alpha: The background learning factor, its value should\n",
    "# be between 0 and 1. The higher the value, the more quickly\n",
    "# your program learns the changes in the background.\n",
    "# 2) firstFrame: This is the first frame from the video/webcam.\n",
    "    def __init__(self,alpha,firstFrame):\n",
    "        self.alpha  = alpha\n",
    "        self.backGroundModel = firstFrame\n",
    "\n",
    "    def getForeground(self,frame):\n",
    "        # apply the background averaging formula:\n",
    "        self.backGroundModel =  frame * self.alpha + self.backGroundModel * (1 - self.alpha)\n",
    "\n",
    "# after the previous operation, the dtype of\n",
    "# self.backGroundModel will be changed to a float type\n",
    "# therefore we do not pass it to cv2.absdiff directly,\n",
    "# instead we acquire a copy of it in the uint8 dtype\n",
    "# and pass that to absdiff.\n",
    "\n",
    "        return cv2.absdiff(self.backGroundModel.astype(np.uint8),frame)\n",
    "\n",
    "cam = cv2.VideoCapture('data.mp4')\n",
    "\n",
    "# Just a simple function to perform\n",
    "# some filtering before any further processing.\n",
    "def denoise(frame):\n",
    "    frame = cv2.medianBlur(frame,5)\n",
    "    frame = cv2.GaussianBlur(frame,(5,5),0)\n",
    "    \n",
    "    return frame\n",
    "\n",
    "ret,frame = cam.read()\n",
    "if ret is True:\n",
    "    backSubtractor = BackGroundSubtractor(0.15,denoise(frame))\n",
    "    run = True\n",
    "else:\n",
    "    run = False\n",
    "\n",
    "while(run):\n",
    "    # Read a frame from the camera\n",
    "    ret,frame = cam.read()\n",
    "\n",
    "    # If the frame was properly read.\n",
    "    if ret is True:\n",
    "        # Show the filtered image\n",
    "        cv2.imshow('input',frame)\n",
    "\n",
    "        # get the foreground\n",
    "        foreGround = backSubtractor.getForeground(denoise(frame))\n",
    "\n",
    "        # Apply thresholding on the background and display the resulting mask\n",
    "        ret, mask = cv2.threshold(foreGround, 15, 255, cv2.THRESH_BINARY)\n",
    "\n",
    "        cv2.imshow('mask',mask)\n",
    "\n",
    "        key = cv2.waitKey(30) & 0xFF\n",
    "    else:\n",
    "        break\n",
    "\n",
    "    if key == 27:\n",
    "        break\n",
    "\n",
    "cam.release()\n",
    "cv2.destroyAllWindows()"
   ]
  },
  {
   "cell_type": "code",
   "execution_count": null,
   "metadata": {},
   "outputs": [],
   "source": []
  }
 ],
 "metadata": {
  "kernelspec": {
   "display_name": "Python 3",
   "language": "python",
   "name": "python3"
  },
  "language_info": {
   "codemirror_mode": {
    "name": "ipython",
    "version": 3
   },
   "file_extension": ".py",
   "mimetype": "text/x-python",
   "name": "python",
   "nbconvert_exporter": "python",
   "pygments_lexer": "ipython3",
   "version": "3.7.3"
  }
 },
 "nbformat": 4,
 "nbformat_minor": 2
}
