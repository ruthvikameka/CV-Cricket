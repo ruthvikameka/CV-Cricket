{
 "cells": [
  {
   "cell_type": "code",
   "execution_count": 1,
   "metadata": {},
   "outputs": [],
   "source": [
    "from PIL import Image\n",
    "import pytesseract\n",
    "import os"
   ]
  },
  {
   "cell_type": "code",
   "execution_count": 2,
   "metadata": {},
   "outputs": [],
   "source": [
    "DATADIR = \"D:\""
   ]
  },
  {
   "cell_type": "code",
   "execution_count": 3,
   "metadata": {},
   "outputs": [],
   "source": [
    "im = \"D://data//frame0Cropped.bmp\"\n",
    "frmes = \"D:\\\\Final Frames\"\n",
    "overframes = \"D:\\\\GrayImages\"\n",
    "listings = os.listdir(frmes)\n",
    "listings2 = os.listdir(overframes)\n",
    "count = 0\n",
    "f1 = open(\"D:\\Text\\MAIN TEXT.txt\", \"w\")"
   ]
  },
  {
   "cell_type": "code",
   "execution_count": null,
   "metadata": {},
   "outputs": [],
   "source": [
    "for item in listings:\n",
    "    fullpath = os.path.join(frmes, item)\n",
    "    fullpath2 = os.path.join(overframes, item)\n",
    "    count += 1\n",
    "    im1= Image.open(fullpath)\n",
    "    if os.path.isfile(fullpath):\n",
    "        s = str(count)\n",
    "        text = pytesseract.image_to_string(im1, lang = 'eng')\n",
    "        f1.write(s)\n",
    "        f1.write(\"\\n\")\n",
    "        f1.writelines(text)\n",
    "        f1.write(\"\\n\")\n"
   ]
  },
  {
   "cell_type": "code",
   "execution_count": null,
   "metadata": {},
   "outputs": [],
   "source": []
  },
  {
   "cell_type": "code",
   "execution_count": null,
   "metadata": {},
   "outputs": [],
   "source": []
  },
  {
   "cell_type": "code",
   "execution_count": null,
   "metadata": {},
   "outputs": [],
   "source": []
  }
 ],
 "metadata": {
  "kernelspec": {
   "display_name": "Python 3",
   "language": "python",
   "name": "python3"
  },
  "language_info": {
   "codemirror_mode": {
    "name": "ipython",
    "version": 3
   },
   "file_extension": ".py",
   "mimetype": "text/x-python",
   "name": "python",
   "nbconvert_exporter": "python",
   "pygments_lexer": "ipython3",
   "version": "3.7.3"
  }
 },
 "nbformat": 4,
 "nbformat_minor": 2
}
